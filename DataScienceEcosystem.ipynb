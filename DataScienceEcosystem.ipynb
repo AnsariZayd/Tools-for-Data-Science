{
  "cells": [
    {
      "cell_type": "markdown",
      "id": "6b1e3c3d-be0d-4390-ae49-b3b4ebb7c1bb",
      "metadata": {
        "id": "6b1e3c3d-be0d-4390-ae49-b3b4ebb7c1bb"
      },
      "source": [
        "# Data Science Tools and Ecosystem"
      ]
    },
    {
      "cell_type": "markdown",
      "id": "cb737b74-a245-48c3-872a-479b81d15864",
      "metadata": {
        "id": "cb737b74-a245-48c3-872a-479b81d15864"
      },
      "source": [
        "## Introduction\n",
        "\n",
        "In this notebook I have summarized the tools for data science"
      ]
    },
    {
      "cell_type": "markdown",
      "id": "a7dda96b-36a8-46fc-b671-07028e74e661",
      "metadata": {
        "id": "a7dda96b-36a8-46fc-b671-07028e74e661"
      },
      "source": [
        "Some of the popular languages that Data Scientists use are:\n",
        "1. Python\n",
        "2. R\n",
        "3. SQL\n",
        "4. Julia\n",
        "5. Scala"
      ]
    },
    {
      "cell_type": "markdown",
      "id": "576e4059-3dee-4598-920f-eb0813e93a7b",
      "metadata": {
        "id": "576e4059-3dee-4598-920f-eb0813e93a7b"
      },
      "source": [
        "Some of the commonly used libraries used by Data Scientists include:\n",
        "1. Pandas\n",
        "2. NumPy\n",
        "3. Matplotlib\n",
        "4. Scikit-learn\n",
        "5. TensorFlow"
      ]
    },
    {
      "cell_type": "markdown",
      "id": "811f025d-3fa1-4689-bd39-839dcc9f865d",
      "metadata": {
        "id": "811f025d-3fa1-4689-bd39-839dcc9f865d"
      },
      "source": [
        "\n",
        "\n",
        "| Data Science Tools       |\n",
        "|--------------------------|\n",
        "| Jupyter Notebook         |\n",
        "| RStudio                  |\n",
        "| Apache Zeppelin          |\n"
      ]
    },
    {
      "cell_type": "markdown",
      "id": "b38726bb-f6a1-48c1-b598-b03d02e88280",
      "metadata": {
        "id": "b38726bb-f6a1-48c1-b598-b03d02e88280"
      },
      "source": [
        "Below are a few examples of evaluating arithmetic expressions in Python"
      ]
    },
    {
      "cell_type": "code",
      "execution_count": 1,
      "id": "66f20714-da2e-4ae7-800b-4cacb9fa83ed",
      "metadata": {
        "tags": [],
        "colab": {
          "base_uri": "https://localhost:8080/"
        },
        "id": "66f20714-da2e-4ae7-800b-4cacb9fa83ed",
        "outputId": "33fbc1f1-a8b5-4af3-fb08-4bfa5e845c79"
      },
      "outputs": [
        {
          "output_type": "execute_result",
          "data": {
            "text/plain": [
              "27"
            ]
          },
          "metadata": {},
          "execution_count": 1
        }
      ],
      "source": [
        "# This a simple arithmetic expression to mutiply then add integers\n",
        "(5*4)+7"
      ]
    },
    {
      "cell_type": "code",
      "execution_count": 2,
      "id": "8576566e-c16a-410f-971e-517eee76f80c",
      "metadata": {
        "tags": [],
        "colab": {
          "base_uri": "https://localhost:8080/"
        },
        "id": "8576566e-c16a-410f-971e-517eee76f80c",
        "outputId": "d0b86451-b2ed-417d-b531-b8a71fc87766"
      },
      "outputs": [
        {
          "output_type": "stream",
          "name": "stdout",
          "text": [
            "400 minutes is equal to 6.666666666666667 hours\n"
          ]
        }
      ],
      "source": [
        "# This will convert 200 minutes to hours by diving by 60\n",
        "minutes = 400\n",
        "hours = minutes / 60\n",
        "print(\"400 minutes is equal to\", hours, \"hours\")"
      ]
    },
    {
      "cell_type": "markdown",
      "id": "caad51d8-e84b-41bf-b3a0-ccab45e89b57",
      "metadata": {
        "id": "caad51d8-e84b-41bf-b3a0-ccab45e89b57"
      },
      "source": [
        "# Objectives\n",
        "\n",
        "**Objectives:**\n",
        "\n",
        "- List popular languages for Data Science.\n",
        "- Identify commonly used libraries in Data Science.\n",
        "- Introduce popular development environments for Data Science.\n",
        "- Demonstrate basic arithmetic operations in Python.\n",
        "- Convert units (minutes to hours) using Python.\n"
      ]
    },
    {
      "cell_type": "markdown",
      "id": "35a8477d",
      "metadata": {
        "id": "35a8477d"
      },
      "source": [
        "## Author\n",
        "Zayd Ansari"
      ]
    }
  ],
  "metadata": {
    "kernelspec": {
      "display_name": "Python 3",
      "language": "python",
      "name": "python3"
    },
    "language_info": {
      "codemirror_mode": {
        "name": "ipython",
        "version": 3
      },
      "file_extension": ".py",
      "mimetype": "text/x-python",
      "name": "python",
      "nbconvert_exporter": "python",
      "pygments_lexer": "ipython3",
      "version": "3.12.1"
    },
    "colab": {
      "provenance": []
    }
  },
  "nbformat": 4,
  "nbformat_minor": 5
}
